{
 "cells": [
  {
   "cell_type": "markdown",
   "metadata": {},
   "source": [
    "# Importing your First Event Log\n",
    "*This is a compressed tutorial, based on https://pm4py.fit.fraunhofer.de/getting-started-page*\n",
    "\n",
    "Process mining exploits Event Logs to generate knowledge of a process.\n",
    "A wide variety of information systems, e.g., SAP, ORACLE, SalesForce, etc., allow us to extract, in one way or the other,\n",
    "event logs similar to the example event logs.\n",
    "All the examples we show in this notebook and all algorithms implemented in pm4py assume that we have already extracted\n",
    "the event data into an appropriate event log format.\n",
    "Hence, the core of pm4py does not support any data extraction features.\n",
    "\n",
    "n order to support interoperability between different process mining tools and libraries, two standard data formats are\n",
    "used to capture event logs, i.e., Comma Separated Value (CSV) files and eXtensible Event Stream (XES) files.\n",
    "CSV files resemble the example tables shown in the previous section, i.e., Table 1 and Table 2. Each line in such a file\n",
    "describes an event that occurred. The columns represent the same type of data, as shown in the examples, e.g., the case\n",
    "for which the event occurred, the activity, the timestamp, the resource executing the activity, etc.\n",
    "The XES file format is an XML-based format that allows us to describe process behavior.\n",
    "We will not go into specific details w.r.t. the format of XES files, i.e., we refer to http://xes-standard.org/ for an\n",
    "overview.\n",
    "\n",
    "this tutorial, we will use an oftenly used dummy example event log to explain the basic process mining operations.\n",
    "The process that we are considering is a simplified process related to customer complaint handling, i.e., taken from the\n",
    "book of van der Aalst (https://www.springer.com/de/book/9783662498507). The process, and the event data we are going to\n",
    "use, looks as follows.\n",
    "\n",
    "![Running example BPMN-based process model describing the behavior of the simple process that we use in this tutorial](files/bpmn_running_example.png)\n",
    "\n",
    "Let’s get started!\n",
    "We have prepared a small sample event log, containing behavior similar equal to the process model in Figure 3.\n",
    "You can find the sample event log [here](running-example.csv).\n",
    "\n",
    "We are going to load the event data, and, we are going to count how many cases are present in the event log, as well as\n",
    "the number of events. Note that, for all this, we are effectively using a third-party library called pandas.\n",
    "We do so because pandas is the de-facto standard of loading/manipulating csv-based data.\n",
    "Hence, any process mining algorithm implemented in PM4Py, using an event log as an input, can work directly with a\n",
    "pandas file!\n"
   ]
  },
  {
   "cell_type": "code",
   "execution_count": 3,
   "outputs": [
    {
     "data": {
      "text/plain": "    case:concept:name        concept:name             time:timestamp  costs  \\\n0                   3    register request  2010-12-30 14:32:00+01:00     50   \n1                   3    examine casually  2010-12-30 15:06:00+01:00    400   \n2                   3        check ticket  2010-12-30 16:34:00+01:00    100   \n3                   3              decide  2011-01-06 09:18:00+01:00    200   \n4                   3  reinitiate request  2011-01-06 12:18:00+01:00    200   \n5                   3  examine thoroughly  2011-01-06 13:06:00+01:00    400   \n6                   3        check ticket  2011-01-08 11:43:00+01:00    100   \n7                   3              decide  2011-01-09 09:55:00+01:00    200   \n8                   3    pay compensation  2011-01-15 10:45:00+01:00    200   \n9                   2    register request  2010-12-30 11:32:00+01:00     50   \n10                  2        check ticket  2010-12-30 12:12:00+01:00    100   \n11                  2    examine casually  2010-12-30 14:16:00+01:00    400   \n12                  2              decide  2011-01-05 11:22:00+01:00    200   \n13                  2    pay compensation  2011-01-08 12:05:00+01:00    200   \n14                  1    register request  2010-12-30 11:02:00+01:00     50   \n15                  1  examine thoroughly  2010-12-31 10:06:00+01:00    400   \n16                  1        check ticket  2011-01-05 15:12:00+01:00    100   \n17                  1              decide  2011-01-06 11:18:00+01:00    200   \n18                  1      reject request  2011-01-07 14:24:00+01:00    200   \n19                  6    register request  2011-01-06 15:02:00+01:00     50   \n20                  6    examine casually  2011-01-06 16:06:00+01:00    400   \n21                  6        check ticket  2011-01-07 16:22:00+01:00    100   \n22                  6              decide  2011-01-07 16:52:00+01:00    200   \n23                  6    pay compensation  2011-01-16 11:47:00+01:00    200   \n24                  5    register request  2011-01-06 09:02:00+01:00     50   \n25                  5    examine casually  2011-01-07 10:16:00+01:00    400   \n26                  5        check ticket  2011-01-08 11:22:00+01:00    100   \n27                  5              decide  2011-01-10 13:28:00+01:00    200   \n28                  5  reinitiate request  2011-01-11 16:18:00+01:00    200   \n29                  5        check ticket  2011-01-14 14:33:00+01:00    100   \n30                  5    examine casually  2011-01-16 15:50:00+01:00    400   \n31                  5              decide  2011-01-19 11:18:00+01:00    200   \n32                  5  reinitiate request  2011-01-20 12:48:00+01:00    200   \n33                  5    examine casually  2011-01-21 09:06:00+01:00    400   \n34                  5        check ticket  2011-01-21 11:34:00+01:00    100   \n35                  5              decide  2011-01-23 13:12:00+01:00    200   \n36                  5      reject request  2011-01-24 14:56:00+01:00    200   \n37                  4    register request  2011-01-06 15:02:00+01:00     50   \n38                  4        check ticket  2011-01-07 12:06:00+01:00    100   \n39                  4  examine thoroughly  2011-01-08 14:43:00+01:00    400   \n40                  4              decide  2011-01-09 12:02:00+01:00    200   \n41                  4      reject request  2011-01-12 15:44:00+01:00    200   \n\n   org:resource  \n0          Pete  \n1          Mike  \n2         Ellen  \n3          Sara  \n4          Sara  \n5          Sean  \n6          Pete  \n7          Sara  \n8         Ellen  \n9          Mike  \n10         Mike  \n11         Sean  \n12         Sara  \n13        Ellen  \n14         Pete  \n15          Sue  \n16         Mike  \n17         Sara  \n18         Pete  \n19         Mike  \n20        Ellen  \n21         Mike  \n22         Sara  \n23         Mike  \n24        Ellen  \n25         Mike  \n26         Pete  \n27         Sara  \n28         Sara  \n29        Ellen  \n30         Mike  \n31         Sara  \n32         Sara  \n33          Sue  \n34         Pete  \n35         Sara  \n36         Mike  \n37         Pete  \n38         Mike  \n39         Sean  \n40         Sara  \n41        Ellen  ",
      "text/html": "<div>\n<style scoped>\n    .dataframe tbody tr th:only-of-type {\n        vertical-align: middle;\n    }\n\n    .dataframe tbody tr th {\n        vertical-align: top;\n    }\n\n    .dataframe thead th {\n        text-align: right;\n    }\n</style>\n<table border=\"1\" class=\"dataframe\">\n  <thead>\n    <tr style=\"text-align: right;\">\n      <th></th>\n      <th>case:concept:name</th>\n      <th>concept:name</th>\n      <th>time:timestamp</th>\n      <th>costs</th>\n      <th>org:resource</th>\n    </tr>\n  </thead>\n  <tbody>\n    <tr>\n      <th>0</th>\n      <td>3</td>\n      <td>register request</td>\n      <td>2010-12-30 14:32:00+01:00</td>\n      <td>50</td>\n      <td>Pete</td>\n    </tr>\n    <tr>\n      <th>1</th>\n      <td>3</td>\n      <td>examine casually</td>\n      <td>2010-12-30 15:06:00+01:00</td>\n      <td>400</td>\n      <td>Mike</td>\n    </tr>\n    <tr>\n      <th>2</th>\n      <td>3</td>\n      <td>check ticket</td>\n      <td>2010-12-30 16:34:00+01:00</td>\n      <td>100</td>\n      <td>Ellen</td>\n    </tr>\n    <tr>\n      <th>3</th>\n      <td>3</td>\n      <td>decide</td>\n      <td>2011-01-06 09:18:00+01:00</td>\n      <td>200</td>\n      <td>Sara</td>\n    </tr>\n    <tr>\n      <th>4</th>\n      <td>3</td>\n      <td>reinitiate request</td>\n      <td>2011-01-06 12:18:00+01:00</td>\n      <td>200</td>\n      <td>Sara</td>\n    </tr>\n    <tr>\n      <th>5</th>\n      <td>3</td>\n      <td>examine thoroughly</td>\n      <td>2011-01-06 13:06:00+01:00</td>\n      <td>400</td>\n      <td>Sean</td>\n    </tr>\n    <tr>\n      <th>6</th>\n      <td>3</td>\n      <td>check ticket</td>\n      <td>2011-01-08 11:43:00+01:00</td>\n      <td>100</td>\n      <td>Pete</td>\n    </tr>\n    <tr>\n      <th>7</th>\n      <td>3</td>\n      <td>decide</td>\n      <td>2011-01-09 09:55:00+01:00</td>\n      <td>200</td>\n      <td>Sara</td>\n    </tr>\n    <tr>\n      <th>8</th>\n      <td>3</td>\n      <td>pay compensation</td>\n      <td>2011-01-15 10:45:00+01:00</td>\n      <td>200</td>\n      <td>Ellen</td>\n    </tr>\n    <tr>\n      <th>9</th>\n      <td>2</td>\n      <td>register request</td>\n      <td>2010-12-30 11:32:00+01:00</td>\n      <td>50</td>\n      <td>Mike</td>\n    </tr>\n    <tr>\n      <th>10</th>\n      <td>2</td>\n      <td>check ticket</td>\n      <td>2010-12-30 12:12:00+01:00</td>\n      <td>100</td>\n      <td>Mike</td>\n    </tr>\n    <tr>\n      <th>11</th>\n      <td>2</td>\n      <td>examine casually</td>\n      <td>2010-12-30 14:16:00+01:00</td>\n      <td>400</td>\n      <td>Sean</td>\n    </tr>\n    <tr>\n      <th>12</th>\n      <td>2</td>\n      <td>decide</td>\n      <td>2011-01-05 11:22:00+01:00</td>\n      <td>200</td>\n      <td>Sara</td>\n    </tr>\n    <tr>\n      <th>13</th>\n      <td>2</td>\n      <td>pay compensation</td>\n      <td>2011-01-08 12:05:00+01:00</td>\n      <td>200</td>\n      <td>Ellen</td>\n    </tr>\n    <tr>\n      <th>14</th>\n      <td>1</td>\n      <td>register request</td>\n      <td>2010-12-30 11:02:00+01:00</td>\n      <td>50</td>\n      <td>Pete</td>\n    </tr>\n    <tr>\n      <th>15</th>\n      <td>1</td>\n      <td>examine thoroughly</td>\n      <td>2010-12-31 10:06:00+01:00</td>\n      <td>400</td>\n      <td>Sue</td>\n    </tr>\n    <tr>\n      <th>16</th>\n      <td>1</td>\n      <td>check ticket</td>\n      <td>2011-01-05 15:12:00+01:00</td>\n      <td>100</td>\n      <td>Mike</td>\n    </tr>\n    <tr>\n      <th>17</th>\n      <td>1</td>\n      <td>decide</td>\n      <td>2011-01-06 11:18:00+01:00</td>\n      <td>200</td>\n      <td>Sara</td>\n    </tr>\n    <tr>\n      <th>18</th>\n      <td>1</td>\n      <td>reject request</td>\n      <td>2011-01-07 14:24:00+01:00</td>\n      <td>200</td>\n      <td>Pete</td>\n    </tr>\n    <tr>\n      <th>19</th>\n      <td>6</td>\n      <td>register request</td>\n      <td>2011-01-06 15:02:00+01:00</td>\n      <td>50</td>\n      <td>Mike</td>\n    </tr>\n    <tr>\n      <th>20</th>\n      <td>6</td>\n      <td>examine casually</td>\n      <td>2011-01-06 16:06:00+01:00</td>\n      <td>400</td>\n      <td>Ellen</td>\n    </tr>\n    <tr>\n      <th>21</th>\n      <td>6</td>\n      <td>check ticket</td>\n      <td>2011-01-07 16:22:00+01:00</td>\n      <td>100</td>\n      <td>Mike</td>\n    </tr>\n    <tr>\n      <th>22</th>\n      <td>6</td>\n      <td>decide</td>\n      <td>2011-01-07 16:52:00+01:00</td>\n      <td>200</td>\n      <td>Sara</td>\n    </tr>\n    <tr>\n      <th>23</th>\n      <td>6</td>\n      <td>pay compensation</td>\n      <td>2011-01-16 11:47:00+01:00</td>\n      <td>200</td>\n      <td>Mike</td>\n    </tr>\n    <tr>\n      <th>24</th>\n      <td>5</td>\n      <td>register request</td>\n      <td>2011-01-06 09:02:00+01:00</td>\n      <td>50</td>\n      <td>Ellen</td>\n    </tr>\n    <tr>\n      <th>25</th>\n      <td>5</td>\n      <td>examine casually</td>\n      <td>2011-01-07 10:16:00+01:00</td>\n      <td>400</td>\n      <td>Mike</td>\n    </tr>\n    <tr>\n      <th>26</th>\n      <td>5</td>\n      <td>check ticket</td>\n      <td>2011-01-08 11:22:00+01:00</td>\n      <td>100</td>\n      <td>Pete</td>\n    </tr>\n    <tr>\n      <th>27</th>\n      <td>5</td>\n      <td>decide</td>\n      <td>2011-01-10 13:28:00+01:00</td>\n      <td>200</td>\n      <td>Sara</td>\n    </tr>\n    <tr>\n      <th>28</th>\n      <td>5</td>\n      <td>reinitiate request</td>\n      <td>2011-01-11 16:18:00+01:00</td>\n      <td>200</td>\n      <td>Sara</td>\n    </tr>\n    <tr>\n      <th>29</th>\n      <td>5</td>\n      <td>check ticket</td>\n      <td>2011-01-14 14:33:00+01:00</td>\n      <td>100</td>\n      <td>Ellen</td>\n    </tr>\n    <tr>\n      <th>30</th>\n      <td>5</td>\n      <td>examine casually</td>\n      <td>2011-01-16 15:50:00+01:00</td>\n      <td>400</td>\n      <td>Mike</td>\n    </tr>\n    <tr>\n      <th>31</th>\n      <td>5</td>\n      <td>decide</td>\n      <td>2011-01-19 11:18:00+01:00</td>\n      <td>200</td>\n      <td>Sara</td>\n    </tr>\n    <tr>\n      <th>32</th>\n      <td>5</td>\n      <td>reinitiate request</td>\n      <td>2011-01-20 12:48:00+01:00</td>\n      <td>200</td>\n      <td>Sara</td>\n    </tr>\n    <tr>\n      <th>33</th>\n      <td>5</td>\n      <td>examine casually</td>\n      <td>2011-01-21 09:06:00+01:00</td>\n      <td>400</td>\n      <td>Sue</td>\n    </tr>\n    <tr>\n      <th>34</th>\n      <td>5</td>\n      <td>check ticket</td>\n      <td>2011-01-21 11:34:00+01:00</td>\n      <td>100</td>\n      <td>Pete</td>\n    </tr>\n    <tr>\n      <th>35</th>\n      <td>5</td>\n      <td>decide</td>\n      <td>2011-01-23 13:12:00+01:00</td>\n      <td>200</td>\n      <td>Sara</td>\n    </tr>\n    <tr>\n      <th>36</th>\n      <td>5</td>\n      <td>reject request</td>\n      <td>2011-01-24 14:56:00+01:00</td>\n      <td>200</td>\n      <td>Mike</td>\n    </tr>\n    <tr>\n      <th>37</th>\n      <td>4</td>\n      <td>register request</td>\n      <td>2011-01-06 15:02:00+01:00</td>\n      <td>50</td>\n      <td>Pete</td>\n    </tr>\n    <tr>\n      <th>38</th>\n      <td>4</td>\n      <td>check ticket</td>\n      <td>2011-01-07 12:06:00+01:00</td>\n      <td>100</td>\n      <td>Mike</td>\n    </tr>\n    <tr>\n      <th>39</th>\n      <td>4</td>\n      <td>examine thoroughly</td>\n      <td>2011-01-08 14:43:00+01:00</td>\n      <td>400</td>\n      <td>Sean</td>\n    </tr>\n    <tr>\n      <th>40</th>\n      <td>4</td>\n      <td>decide</td>\n      <td>2011-01-09 12:02:00+01:00</td>\n      <td>200</td>\n      <td>Sara</td>\n    </tr>\n    <tr>\n      <th>41</th>\n      <td>4</td>\n      <td>reject request</td>\n      <td>2011-01-12 15:44:00+01:00</td>\n      <td>200</td>\n      <td>Ellen</td>\n    </tr>\n  </tbody>\n</table>\n</div>"
     },
     "execution_count": 3,
     "metadata": {},
     "output_type": "execute_result"
    }
   ],
   "source": [
    "import pandas\n",
    "log = pandas.read_csv('running-example.csv', sep=';')\n",
    "log"
   ],
   "metadata": {
    "collapsed": false,
    "pycharm": {
     "name": "#%%\n"
    }
   }
  },
  {
   "cell_type": "markdown",
   "source": [
    "Let's inspect the small event log.\n",
    "The first line (i.e., row) specifies the name of each column (i.e., event attribute).\n",
    "Observe that, in the data table described by the file, we have 5 columns, being: *case:concept:name*, *concept:name*,\n",
    "*time:timestamp*, *costs* and *org:resource*.\n",
    "The first column represents the *case identifier*, i.e., allowing us to identify what activity has been logged in the\n",
    "context of what instance of the process.\n",
    "The second column (*concept:name*) shows the activity that has been performed.\n",
    "The third column shows at what point in time the activity was recorded (*time:timestamp*).\n",
    "In this example data, additional information is present as well.\n",
    "In this case, the fourth column tracks the costs of the activity (*costs* attribute), whereas the fifth row tracks what\n",
    "resource has performed the activity (*org:resource*).\n",
    "\n",
    "Observe that, row 2-10 show the events that have been recorded for the process identified by case identifier 3.\n",
    "We observe that first a register request activity was performed, followed by the examine casually, check ticket, decide,\n",
    "reinitiate request, examine thoroughly, check ticket,decide, and finally, pay compensation activities.\n",
    "Note that, in this case, the recorded process instance behaves as described by the model depicted in Figure 3.\n"
   ],
   "metadata": {
    "collapsed": false
   }
  }
 ],
 "metadata": {
  "kernelspec": {
   "display_name": "Python 3",
   "language": "python",
   "name": "python3"
  },
  "language_info": {
   "codemirror_mode": {
    "name": "ipython",
    "version": 3
   },
   "file_extension": ".py",
   "mimetype": "text/x-python",
   "name": "python",
   "nbconvert_exporter": "python",
   "pygments_lexer": "ipython3",
   "version": "3.8.5"
  }
 },
 "nbformat": 4,
 "nbformat_minor": 1
}