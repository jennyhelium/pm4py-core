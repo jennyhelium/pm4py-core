{
 "cells": [
  {
   "cell_type": "markdown",
   "metadata": {},
   "source": [
    "# Importing your First Event Log\n",
    "*This is a compressed tutorial, based on https://pm4py.fit.fraunhofer.de/getting-started-page*\n",
    "\n",
    "Process mining exploits Event Logs to generate knowledge of a process.\n",
    "A wide variety of information systems, e.g., SAP, ORACLE, SalesForce, etc., allow us to extract, in one way or the other,\n",
    "event logs similar to the example event logs.\n",
    "All the examples we show in this notebook and all algorithms implemented in pm4py assume that we have already extracted\n",
    "the event data into an appropriate event log format.\n",
    "Hence, the core of pm4py does not support any data extraction features.\n",
    "\n",
    "n order to support interoperability between different process mining tools and libraries, two standard data formats are\n",
    "used to capture event logs, i.e., Comma Separated Value (CSV) files and eXtensible Event Stream (XES) files.\n",
    "CSV files resemble the example tables shown in the previous section, i.e., Table 1 and Table 2. Each line in such a file\n",
    "describes an event that occurred. The columns represent the same type of data, as shown in the examples, e.g., the case\n",
    "for which the event occurred, the activity, the timestamp, the resource executing the activity, etc.\n",
    "The XES file format is an XML-based format that allows us to describe process behavior.\n",
    "We will not go into specific details w.r.t. the format of XES files, i.e., we refer to http://xes-standard.org/ for an\n",
    "overview.\n",
    "\n",
    "this tutorial, we will use an oftenly used dummy example event log to explain the basic process mining operations.\n",
    "The process that we are considering is a simplified process related to customer complaint handling, i.e., taken from the\n",
    "book of van der Aalst (https://www.springer.com/de/book/9783662498507). The process, and the event data we are going to\n",
    "use, looks as follows.\n",
    "\n",
    "![Running example BPMN-based process model describing the behavior of the simple process that we use in this tutorial](files/bpmn_running_example.png)\n",
    "\n",
    "Let’s get started!\n",
    "We have prepared a small sample event log, containing behavior similar equal to the process model in Figure 3.\n",
    "You can find the sample event log [here](running-example.csv)."
   ]
  }
 ],
 "metadata": {
  "kernelspec": {
   "display_name": "Python 3",
   "language": "python",
   "name": "python3"
  },
  "language_info": {
   "codemirror_mode": {
    "name": "ipython",
    "version": 3
   },
   "file_extension": ".py",
   "mimetype": "text/x-python",
   "name": "python",
   "nbconvert_exporter": "python",
   "pygments_lexer": "ipython3",
   "version": "3.8.5"
  }
 },
 "nbformat": 4,
 "nbformat_minor": 1
}