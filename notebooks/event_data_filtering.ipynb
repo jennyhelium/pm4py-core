{
 "cells": [
  {
   "cell_type": "markdown",
   "metadata": {
    "collapsed": true,
    "pycharm": {
     "name": "#%% md\n"
    }
   },
   "source": [
    "# Event Data Filtering"
   ]
  },
  {
   "cell_type": "markdown",
   "source": [
    "Like any data-driven field, the successful application of process mining needs *data munging and crunching*.\n",
    "In pm4py, you can munge and crunch your data in two ways, i.e., you can write ```lambda``` functions and apply them on\n",
    "your event log, or, you can apply pre-built filtering and transformation functions.\n",
    "In this turtorial, we briefly explain how to filter event data in various different ways in pm4py.\n",
    "In a nutshell, a lambda function allows you to specify a function that needs to be applied on a given element.\n",
    "As a simple example, consider the following snippet:"
   ],
   "metadata": {
    "collapsed": false,
    "pycharm": {
     "name": "#%% md\n"
    }
   }
  },
  {
   "cell_type": "code",
   "execution_count": 2,
   "outputs": [
    {
     "data": {
      "text/plain": "10"
     },
     "execution_count": 2,
     "metadata": {},
     "output_type": "execute_result"
    }
   ],
   "source": [
    "f = lambda x: 2 * x\n",
    "f(5)"
   ],
   "metadata": {
    "collapsed": false,
    "pycharm": {
     "name": "#%%\n"
    }
   }
  },
  {
   "cell_type": "markdown",
   "source": [
    "In the code, we assign a ```lambda``` function to variable ```f```.\n",
    "The function specifies that on each possible input it receives, the resulting function that is applied is a multiplication by 2.\n",
    "Hence ```f(1)=2```, ```f(2)=4```, etc."
   ],
   "metadata": {
    "collapsed": false,
    "pycharm": {
     "name": "#%% md\n"
    }
   }
  },
  {
   "cell_type": "markdown",
   "source": [
    "Invoking variable f with argument value 2, triggers Python to execute the lambda function on the given argument, i.e., 2.\n",
    "Note that, this only works if we provide any form of input that can be combined with the ‘* 2’ operation. For example, for Strings, the ‘* 2’ operation concatenates the input argument with itself:"
   ],
   "metadata": {
    "collapsed": false,
    "pycharm": {
     "name": "#%% md\n"
    }
   }
  }
 ],
 "metadata": {
  "kernelspec": {
   "display_name": "Python 3",
   "language": "python",
   "name": "python3"
  },
  "language_info": {
   "codemirror_mode": {
    "name": "ipython",
    "version": 2
   },
   "file_extension": ".py",
   "mimetype": "text/x-python",
   "name": "python",
   "nbconvert_exporter": "python",
   "pygments_lexer": "ipython2",
   "version": "2.7.6"
  }
 },
 "nbformat": 4,
 "nbformat_minor": 0
}